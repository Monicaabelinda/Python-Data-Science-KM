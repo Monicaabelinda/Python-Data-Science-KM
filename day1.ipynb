{
 "cells": [
  {
   "cell_type": "markdown",
   "id": "8dda15a4-2842-47e1-ada9-1a2f5b65300c",
   "metadata": {},
   "source": [
    "## Integers\n"
   ]
  },
  {
   "cell_type": "code",
   "execution_count": 3,
   "id": "54cab72e-7fec-439d-8278-51d8b010d704",
   "metadata": {},
   "outputs": [
    {
     "name": "stdout",
     "output_type": "stream",
     "text": [
      "10\n",
      "<class 'int'>\n"
     ]
    }
   ],
   "source": [
    "print(10)\n",
    "print (type(10))\n"
   ]
  },
  {
   "cell_type": "markdown",
   "id": "f88bced6-a29f-474b-a10a-f64d293c24e5",
   "metadata": {},
   "source": [
    "# Floating Point Number"
   ]
  },
  {
   "cell_type": "code",
   "execution_count": 4,
   "id": "e9330461-90e8-4f4e-877e-5bb1533f87ed",
   "metadata": {},
   "outputs": [
    {
     "name": "stdout",
     "output_type": "stream",
     "text": [
      "4.2\n",
      "<class 'float'>\n",
      "4.0\n",
      "0.2\n",
      "4000000.0\n",
      "0.00042\n"
     ]
    }
   ],
   "source": [
    "print(4.2)\n",
    "print (type(4.2))\n",
    "\n",
    "print(4.)\n",
    "\n",
    "print(.2)\n",
    "\n",
    "print(.4e7)\n",
    "\n",
    "print(4.2e-4)\n",
    "\n"
   ]
  },
  {
   "cell_type": "markdown",
   "id": "17f1f35d-e17e-483a-bc3c-047baa3249fa",
   "metadata": {},
   "source": [
    "# String"
   ]
  },
  {
   "cell_type": "code",
   "execution_count": 5,
   "id": "f0db93b7-da78-4994-b38e-ebe47cf8fa4d",
   "metadata": {},
   "outputs": [
    {
     "name": "stdout",
     "output_type": "stream",
     "text": [
      "Hacktiv\n",
      "<class 'str'>\n"
     ]
    }
   ],
   "source": [
    "print(\"Hacktiv\")\n",
    "print (type(\"Hacktiv8\"))\n"
   ]
  },
  {
   "cell_type": "code",
   "execution_count": 6,
   "id": "63ecd83d-341f-4457-963e-645e5f639c87",
   "metadata": {
    "tags": []
   },
   "outputs": [
    {
     "name": "stdout",
     "output_type": "stream",
     "text": [
      " \n"
     ]
    }
   ],
   "source": [
    "print( ' ') #string juga boleh kosong"
   ]
  },
  {
   "cell_type": "code",
   "execution_count": 7,
   "id": "c6296928-c421-4110-9d05-6765c16cd4a5",
   "metadata": {},
   "outputs": [
    {
     "name": "stdout",
     "output_type": "stream",
     "text": [
      "This string contains has a single quote (') character.\n",
      "This string contains has a double quote (\") character.\n"
     ]
    }
   ],
   "source": [
    "print(\"This string contains has a single quote (') character.\")\n",
    "print('This string contains has a double quote (\") character.')"
   ]
  },
  {
   "cell_type": "markdown",
   "id": "3c6171b9-b9c8-4aba-9f39-bb02dc8caf7c",
   "metadata": {},
   "source": [
    "# Boolean Type,Boolean Context and Truthiness\n",
    "\n",
    "#tipe boolean punya 2 nilai true dan false"
   ]
  },
  {
   "cell_type": "code",
   "execution_count": 8,
   "id": "7c4b1435-8748-41df-8d94-fb082ac038a5",
   "metadata": {},
   "outputs": [
    {
     "name": "stdout",
     "output_type": "stream",
     "text": [
      "<class 'bool'>\n",
      "<class 'bool'>\n"
     ]
    }
   ],
   "source": [
    "print(type(True))\n",
    "print(type(False))"
   ]
  },
  {
   "cell_type": "markdown",
   "id": "472ca4d6-6f29-4318-b838-82f10d11d4be",
   "metadata": {},
   "source": [
    "# Variable Assignment\n",
    "\n",
    "#variabel tidak perlu dideklarasikan atau didefinisikan sebelumnya,cukup menetapkan nilai dan variable assignment dilakukan dengan 1 tanda (=)"
   ]
  },
  {
   "cell_type": "code",
   "execution_count": 10,
   "id": "71e15864-e10a-4845-8914-2569dcf6b8f3",
   "metadata": {},
   "outputs": [],
   "source": [
    "n = 300"
   ]
  },
  {
   "cell_type": "code",
   "execution_count": 11,
   "id": "eeeb9b9d-ca0d-46c3-a554-f79640a404b8",
   "metadata": {},
   "outputs": [
    {
     "name": "stdout",
     "output_type": "stream",
     "text": [
      "300\n"
     ]
    }
   ],
   "source": [
    "print(n)"
   ]
  },
  {
   "cell_type": "code",
   "execution_count": 12,
   "id": "b0c9c736-666e-40b0-8a4e-c68c32e5371f",
   "metadata": {},
   "outputs": [
    {
     "data": {
      "text/plain": [
       "300"
      ]
     },
     "execution_count": 12,
     "metadata": {},
     "output_type": "execute_result"
    }
   ],
   "source": [
    "n"
   ]
  },
  {
   "cell_type": "code",
   "execution_count": 13,
   "id": "9c06e72c-6476-4acb-8262-eb1d72ca5288",
   "metadata": {},
   "outputs": [],
   "source": [
    "# later,if you change the vaue of n and use it again,the new vaue will be substituted instead:"
   ]
  },
  {
   "cell_type": "code",
   "execution_count": 15,
   "id": "4789fb91-bfb7-4c18-99fa-8423bf6fba15",
   "metadata": {},
   "outputs": [
    {
     "name": "stdout",
     "output_type": "stream",
     "text": [
      "1000\n"
     ]
    },
    {
     "data": {
      "text/plain": [
       "1000"
      ]
     },
     "execution_count": 15,
     "metadata": {},
     "output_type": "execute_result"
    }
   ],
   "source": [
    "n = 1000\n",
    "print(n)\n",
    "n"
   ]
  },
  {
   "cell_type": "code",
   "execution_count": 16,
   "id": "96977bfb-6e2a-444b-a0ee-5e52528841d9",
   "metadata": {},
   "outputs": [
    {
     "name": "stdout",
     "output_type": "stream",
     "text": [
      "300 300 300\n"
     ]
    }
   ],
   "source": [
    "a = b = c =300\n",
    "print(a,b,c)"
   ]
  },
  {
   "cell_type": "markdown",
   "id": "52ba6824-ad11-48e8-81b4-2691f9b35767",
   "metadata": {},
   "source": [
    "# Variable Types in Python"
   ]
  },
  {
   "cell_type": "code",
   "execution_count": 17,
   "id": "1809091d-e0fb-4c65-9482-ec57d0d7153d",
   "metadata": {},
   "outputs": [
    {
     "name": "stdout",
     "output_type": "stream",
     "text": [
      "23.5\n",
      "Now i'm a string\n"
     ]
    }
   ],
   "source": [
    "var = 23.5\n",
    "print(var)\n",
    "\n",
    "var = \"Now i'm a string\"\n",
    "print(var)"
   ]
  },
  {
   "cell_type": "markdown",
   "id": "d156b041-e611-4673-8436-6942c97a18d8",
   "metadata": {},
   "source": [
    "# Variable Names\n"
   ]
  },
  {
   "cell_type": "code",
   "execution_count": 20,
   "id": "1694b963-3ac6-46e4-9f65-327cec7fc41b",
   "metadata": {},
   "outputs": [
    {
     "name": "stdout",
     "output_type": "stream",
     "text": [
      "Hacktive8 54 True\n"
     ]
    }
   ],
   "source": [
    "#variabel terdiri dari huruf besar dan huruf kecil(A-Z),digit(0-9) \n",
    "name = \"Hacktive8\"\n",
    "Age = 54\n",
    "has_laptops = True\n",
    "print(name, Age, has_laptops)"
   ]
  },
  {
   "cell_type": "code",
   "execution_count": 22,
   "id": "24cddeae-3ee9-48da-9c93-ce07ecc7a4f9",
   "metadata": {},
   "outputs": [
    {
     "ename": "SyntaxError",
     "evalue": "invalid decimal literal (550970302.py, line 3)",
     "output_type": "error",
     "traceback": [
      "\u001b[1;36m  Cell \u001b[1;32mIn[22], line 3\u001b[1;36m\u001b[0m\n\u001b[1;33m    9_kepala_naga = True\u001b[0m\n\u001b[1;37m     ^\u001b[0m\n\u001b[1;31mSyntaxError\u001b[0m\u001b[1;31m:\u001b[0m invalid decimal literal\n"
     ]
    }
   ],
   "source": [
    "# nama variabel tidak boleh dimulai dengan angka\n",
    "\n",
    "9_kepala_naga = True"
   ]
  },
  {
   "cell_type": "markdown",
   "id": "4cf555a8-1936-4cec-89a4-8a26857da3af",
   "metadata": {},
   "source": [
    "# Operators and Expressions in Python"
   ]
  },
  {
   "cell_type": "code",
   "execution_count": 24,
   "id": "15dc7f1a-9901-44e8-b6a9-694509c9f1dd",
   "metadata": {},
   "outputs": [
    {
     "data": {
      "text/plain": [
       "30"
      ]
     },
     "execution_count": 24,
     "metadata": {},
     "output_type": "execute_result"
    }
   ],
   "source": [
    "a = 10\n",
    "b = 20\n",
    "a+b"
   ]
  },
  {
   "cell_type": "code",
   "execution_count": 25,
   "id": "6b7a4198-1f33-4ddc-a13c-40e4360cd1e7",
   "metadata": {},
   "outputs": [
    {
     "data": {
      "text/plain": [
       "25"
      ]
     },
     "execution_count": 25,
     "metadata": {},
     "output_type": "execute_result"
    }
   ],
   "source": [
    "a = 10\n",
    "b = 20\n",
    "a+b-5"
   ]
  },
  {
   "cell_type": "markdown",
   "id": "0a96282e-8394-4b59-a86b-a3f8ae185d89",
   "metadata": {},
   "source": [
    "# Aritmethic Operators"
   ]
  },
  {
   "cell_type": "code",
   "execution_count": 27,
   "id": "e95f04e0-f99d-4de2-957b-4820d792385a",
   "metadata": {},
   "outputs": [
    {
     "name": "stdout",
     "output_type": "stream",
     "text": [
      "7\n",
      "1\n",
      "12\n",
      "1.3333333333333333\n",
      "1\n",
      "64\n"
     ]
    }
   ],
   "source": [
    "a = 4\n",
    "b = 3\n",
    "print(a+b)\n",
    "print(a-b)\n",
    "print(a*b)\n",
    "print(a/b)\n",
    "print(a%b)\n",
    "print(a**b)\n"
   ]
  },
  {
   "cell_type": "markdown",
   "id": "9711dec9-b3fd-4792-988a-f20e7b152514",
   "metadata": {},
   "source": [
    "# Comparison Operators"
   ]
  },
  {
   "cell_type": "code",
   "execution_count": 28,
   "id": "85d949e6-7b72-4fe4-8cf6-f14bcae5572c",
   "metadata": {},
   "outputs": [
    {
     "name": "stdout",
     "output_type": "stream",
     "text": [
      "False\n",
      "True\n",
      "True\n",
      "False\n"
     ]
    }
   ],
   "source": [
    "a = 10\n",
    "b = 20\n",
    "print(a==b)\n",
    "print(a!=b)\n",
    "print(a<=b)\n",
    "print(a>=b)"
   ]
  },
  {
   "cell_type": "code",
   "execution_count": 29,
   "id": "7a2a2eb4-e19a-4f02-92af-15957e5c8316",
   "metadata": {},
   "outputs": [
    {
     "name": "stdout",
     "output_type": "stream",
     "text": [
      "True\n",
      "True\n",
      "True\n"
     ]
    }
   ],
   "source": [
    "a = 30\n",
    "b = 30\n",
    "print(a==b)\n",
    "print(a<=b)\n",
    "print(a>=b)"
   ]
  },
  {
   "cell_type": "markdown",
   "id": "cbe73783-afbf-4bb4-96aa-f424960f9158",
   "metadata": {},
   "source": [
    "# String Manipulation"
   ]
  },
  {
   "cell_type": "code",
   "execution_count": 30,
   "id": "5102caeb-8bae-4df8-b330-2501f6534ada",
   "metadata": {},
   "outputs": [
    {
     "name": "stdout",
     "output_type": "stream",
     "text": [
      "foobar\n",
      "foobarbaz\n",
      "Hacktv8PTP\n"
     ]
    }
   ],
   "source": [
    "# + operators\n",
    "s = 'foo'\n",
    "t = 'bar'\n",
    "u = 'baz'\n",
    "\n",
    "print(s+t)\n",
    "\n",
    "print(s+t+u)\n",
    "\n",
    "print('Hacktv8' + 'PTP')"
   ]
  },
  {
   "cell_type": "code",
   "execution_count": 31,
   "id": "d292e8ad-e7ff-4fa5-b1b5-f7d1e5d3acaf",
   "metadata": {},
   "outputs": [
    {
     "data": {
      "text/plain": [
       "'foofoofoofoo'"
      ]
     },
     "execution_count": 31,
     "metadata": {},
     "output_type": "execute_result"
    }
   ],
   "source": [
    "# + operators\n",
    "s = 'foo'\n",
    "s * 4"
   ]
  },
  {
   "cell_type": "code",
   "execution_count": 33,
   "id": "3b7a29fc-ff17-42d5-88d8-1abed439eae7",
   "metadata": {},
   "outputs": [
    {
     "name": "stdout",
     "output_type": "stream",
     "text": [
      "True\n",
      "False\n"
     ]
    }
   ],
   "source": [
    "# in operators\n",
    "s = 'foo'\n",
    "\n",
    "print(s in 'That food for us')\n",
    "\n",
    "print(s in 'That good for us')"
   ]
  },
  {
   "cell_type": "markdown",
   "id": "4e15f3f6-d6a1-43ce-a93b-8e32e8ce76cb",
   "metadata": {},
   "source": [
    "# Python Lists"
   ]
  },
  {
   "cell_type": "code",
   "execution_count": 1,
   "id": "7a07060b-a154-4aa1-822a-65b176ef2c26",
   "metadata": {},
   "outputs": [
    {
     "name": "stdout",
     "output_type": "stream",
     "text": [
      "['foo', 'bar', 'baz', 'qux']\n"
     ]
    }
   ],
   "source": [
    "a = ['foo', 'bar', 'baz', 'qux']\n",
    "print(a)"
   ]
  },
  {
   "cell_type": "markdown",
   "id": "074561ee-cb92-42e1-ae2c-292910960e32",
   "metadata": {},
   "source": [
    "# Lists Are Ordered"
   ]
  },
  {
   "cell_type": "code",
   "execution_count": 2,
   "id": "75889d38-6abb-425f-b6f9-eecbe1e149c8",
   "metadata": {},
   "outputs": [
    {
     "data": {
      "text/plain": [
       "False"
      ]
     },
     "execution_count": 2,
     "metadata": {},
     "output_type": "execute_result"
    }
   ],
   "source": [
    "a = ['foo','bar','baz','qux']\n",
    "b = ['baz','qux','bar','foo']\n",
    "\n",
    "a==b"
   ]
  },
  {
   "cell_type": "markdown",
   "id": "83bd9e77-3257-4a4f-af5a-03d580dc21a3",
   "metadata": {},
   "source": [
    "# List Can Contain Arbitrary Objects"
   ]
  },
  {
   "cell_type": "code",
   "execution_count": 4,
   "id": "ad76a64a-1ed5-44e7-8ff9-3356da3fb9ca",
   "metadata": {},
   "outputs": [
    {
     "name": "stdout",
     "output_type": "stream",
     "text": [
      "[21.42, 'foobar', 3, 4, 'bark', False, 3.14159]\n"
     ]
    }
   ],
   "source": [
    "a = [21.42,'foobar',3,4,'bark',False,3.14159]\n",
    "print(a)"
   ]
  },
  {
   "cell_type": "markdown",
   "id": "81d32ee2-30d0-4b34-a02c-20ed57ad2e9b",
   "metadata": {},
   "source": [
    "# list Elements Can Be Accessed by Index"
   ]
  },
  {
   "cell_type": "code",
   "execution_count": 9,
   "id": "2ff986ad-2fdc-424f-bc13-65bd1521ffb1",
   "metadata": {
    "tags": []
   },
   "outputs": [],
   "source": [
    "a = ['foo','bar','baz','qux','quux','corge']"
   ]
  },
  {
   "cell_type": "code",
   "execution_count": 7,
   "id": "3e1e16d9-61e9-4bd1-a0b2-c4bd38bc98e2",
   "metadata": {},
   "outputs": [
    {
     "name": "stdout",
     "output_type": "stream",
     "text": [
      "foo\n",
      "corge\n"
     ]
    }
   ],
   "source": [
    "print(a[0])\n",
    "print(a[5])"
   ]
  },
  {
   "cell_type": "code",
   "execution_count": 10,
   "id": "f64bbc33-76cd-47fa-b4b9-9f10422505ea",
   "metadata": {},
   "outputs": [
    {
     "name": "stdout",
     "output_type": "stream",
     "text": [
      "corge\n",
      "foo\n"
     ]
    }
   ],
   "source": [
    "print(a[-1])\n",
    "print(a[-6])\n"
   ]
  },
  {
   "cell_type": "code",
   "execution_count": 11,
   "id": "0b1b74ac-6f4d-4436-9bbc-4b9cbe6ad8c4",
   "metadata": {},
   "outputs": [
    {
     "data": {
      "text/plain": [
       "['baz', 'qux', 'quux']"
      ]
     },
     "execution_count": 11,
     "metadata": {},
     "output_type": "execute_result"
    }
   ],
   "source": [
    "a = ['foo','bar','baz','qux','quux','corge']\n",
    "a[2:5]"
   ]
  },
  {
   "cell_type": "code",
   "execution_count": 12,
   "id": "9bb1423a-0ebe-4eb0-b189-003263668c24",
   "metadata": {},
   "outputs": [
    {
     "name": "stdout",
     "output_type": "stream",
     "text": [
      "['foo', 'bar', 'baz', 'qux', 'quux', 'corge']\n",
      "['foo', 'bar', 'baz', 'qux', 'quux', 'corge', 'grault', 'garply']\n",
      "['foo', 'bar', 'baz', 'qux', 'quux', 'corge', 'foo', 'bar', 'baz', 'qux', 'quux', 'corge']\n"
     ]
    }
   ],
   "source": [
    "print(a)\n",
    "\n",
    "print(a + ['grault', 'garply'])\n",
    "print(a*2)"
   ]
  },
  {
   "cell_type": "code",
   "execution_count": 13,
   "id": "5e5da90a-6da5-4e20-8ea4-e4c5fff7881f",
   "metadata": {},
   "outputs": [
    {
     "name": "stdout",
     "output_type": "stream",
     "text": [
      "['foo', 'bar', 'baz', 'qux', 'quux', 'corge']\n",
      "6\n",
      "bar\n",
      "qux\n"
     ]
    }
   ],
   "source": [
    "print(a)\n",
    "\n",
    "print(len(a))\n",
    "print(min(a))\n",
    "print(max(a))"
   ]
  },
  {
   "cell_type": "markdown",
   "id": "dd5b10a1-5f99-4386-9b99-905cf1a2d72c",
   "metadata": {},
   "source": [
    "# Modifying a Single List Value"
   ]
  },
  {
   "cell_type": "code",
   "execution_count": 14,
   "id": "242df386-2b5b-4d4e-b166-6bb72fc1d413",
   "metadata": {},
   "outputs": [
    {
     "name": "stdout",
     "output_type": "stream",
     "text": [
      "['foo', 'bar', 'baz', 'qux', 'quux', 'corge']\n",
      "['foo', 'bar', 10, 'qux', 'quux', 20]\n"
     ]
    }
   ],
   "source": [
    "a = ['foo','bar','baz','qux','quux','corge']\n",
    "\n",
    "print(a)\n",
    "\n",
    "a[2] = 10\n",
    "a[-1] = 20\n",
    "\n",
    "print(a)"
   ]
  },
  {
   "cell_type": "code",
   "execution_count": 15,
   "id": "45be49bf-327c-488d-b78b-98fc237257a8",
   "metadata": {},
   "outputs": [],
   "source": [
    "# a list item can be deleted with del command:\n",
    "del a[3]"
   ]
  },
  {
   "cell_type": "code",
   "execution_count": 16,
   "id": "6b4ca637-a07f-499e-a8c1-b4ada1cc6d97",
   "metadata": {},
   "outputs": [
    {
     "name": "stdout",
     "output_type": "stream",
     "text": [
      "['foo', 'bar', 10, 'quux', 20]\n"
     ]
    }
   ],
   "source": [
    "print(a)"
   ]
  },
  {
   "cell_type": "markdown",
   "id": "c9d153c3-f42a-4b43-ab8b-0eea244a5688",
   "metadata": {},
   "source": [
    "# Modifying Multiple List Values"
   ]
  },
  {
   "cell_type": "code",
   "execution_count": 17,
   "id": "b3e081e1-2b13-4625-a049-279515fd973e",
   "metadata": {},
   "outputs": [
    {
     "name": "stdout",
     "output_type": "stream",
     "text": [
      "['bar', 'baz', 'qux']\n",
      "['foo', 1.1, 2.2, 3.3, 4.4, 5.5, 'quux', 'corge']\n"
     ]
    }
   ],
   "source": [
    "a = ['foo','bar','baz','qux','quux','corge']\n",
    "\n",
    "print(a[1:4])\n",
    "\n",
    "a[1:4] = [1.1, 2.2, 3.3, 4.4, 5.5]\n",
    "print(a)"
   ]
  },
  {
   "cell_type": "code",
   "execution_count": null,
   "id": "7ded224f-0881-42b2-85c2-3622825236b7",
   "metadata": {},
   "outputs": [],
   "source": []
  }
 ],
 "metadata": {
  "kernelspec": {
   "display_name": "Python 3 (ipykernel)",
   "language": "python",
   "name": "python3"
  },
  "language_info": {
   "codemirror_mode": {
    "name": "ipython",
    "version": 3
   },
   "file_extension": ".py",
   "mimetype": "text/x-python",
   "name": "python",
   "nbconvert_exporter": "python",
   "pygments_lexer": "ipython3",
   "version": "3.11.3"
  }
 },
 "nbformat": 4,
 "nbformat_minor": 5
}
