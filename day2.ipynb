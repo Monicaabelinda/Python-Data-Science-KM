{
 "cells": [
  {
   "cell_type": "code",
   "execution_count": 1,
   "id": "78b9e7db-ccaf-400c-97b4-b7bb4240d1aa",
   "metadata": {},
   "outputs": [
    {
     "data": {
      "text/plain": [
       "True"
      ]
     },
     "execution_count": 1,
     "metadata": {},
     "output_type": "execute_result"
    }
   ],
   "source": [
    "a = 2\n",
    "b = 2\n",
    "\n",
    "a == b\n",
    "a != b\n",
    "a > b\n",
    "a >= b\n",
    "a < b\n",
    "a <= b"
   ]
  },
  {
   "cell_type": "code",
   "execution_count": 2,
   "id": "9dea6754-0614-4d8e-a23d-a54a16328a76",
   "metadata": {},
   "outputs": [
    {
     "name": "stdout",
     "output_type": "stream",
     "text": [
      "Ya\n",
      "a lebih besar atau sama dengan b\n"
     ]
    }
   ],
   "source": [
    "if a == b:\n",
    "    print(\"Ya\")\n",
    "    \n",
    "if a > b:\n",
    "    print(\"a besar dari b\")\n",
    "\n",
    "if a >= b:\n",
    "    print(\"a lebih besar atau sama dengan b\")\n",
    "    "
   ]
  },
  {
   "cell_type": "code",
   "execution_count": 3,
   "id": "266f52b3-5d70-4023-a5f8-959941f8e20a",
   "metadata": {},
   "outputs": [
    {
     "name": "stdout",
     "output_type": "stream",
     "text": [
      "Ya\n",
      "a dan b sama\n",
      "paling bawah\n"
     ]
    }
   ],
   "source": [
    "a = 2\n",
    "b = 3\n",
    "if a!= b:\n",
    "    print(\"Ya\")\n",
    "    print(\"a dan b sama\")\n",
    "else:\n",
    "    print('jalankan else')\n",
    "    \n",
    "\n",
    "print(\"paling bawah\")"
   ]
  },
  {
   "cell_type": "code",
   "execution_count": 4,
   "id": "bc6d5b80-8c3a-48a6-94b4-95c6308bbddf",
   "metadata": {},
   "outputs": [
    {
     "name": "stdout",
     "output_type": "stream",
     "text": [
      "uang kamu cukup untuk membeli buku\n"
     ]
    }
   ],
   "source": [
    "harga_buku = 15000\n",
    "harga_majalah = 35000\n",
    "uang = 15000\n",
    "\n",
    "if uang > harga_majalah:\n",
    "    print(\"uang kamu cukup untuk membeli majalah\")\n",
    "elif uang >= harga_buku:\n",
    "    print(\"uang kamu cukup untuk membeli buku\")\n",
    "elif uang == harga_buku:\n",
    "    print(\"uang kamu cukup untuk membeli buku, dan habis.\")\n",
    "# else:\n",
    "#     print(\"uang kamu tidak cukup untuk berbelanja. nabung lagi ya\")"
   ]
  },
  {
   "cell_type": "code",
   "execution_count": 5,
   "id": "c63ea18a-5815-4565-bc72-3ff4dce9ff9e",
   "metadata": {},
   "outputs": [
    {
     "name": "stdout",
     "output_type": "stream",
     "text": [
      "1 kecil dari 2\n",
      "1 kecil dari 2\n"
     ]
    }
   ],
   "source": [
    "if 1 < 2:\n",
    "    print('1 kecil dari 2')\n",
    "if 2 == 1:\n",
    "    print('2 sama dengan 1')\n",
    "elif 1<2:\n",
    "    print('1 kecil dari 2')"
   ]
  },
  {
   "cell_type": "code",
   "execution_count": 6,
   "id": "59c2bc5f-bf71-4d39-8e94-b633d93d2c19",
   "metadata": {},
   "outputs": [
    {
     "name": "stdout",
     "output_type": "stream",
     "text": [
      "ada\n",
      "a\n",
      "dalam\n",
      "bara\n"
     ]
    }
   ],
   "source": [
    "if 'a' in 'bara': print('ada');print('a');print('dalam');print('bara')"
   ]
  },
  {
   "cell_type": "code",
   "execution_count": 7,
   "id": "e1f67701-0c6c-4e5a-8860-79553fccaad4",
   "metadata": {},
   "outputs": [
    {
     "data": {
      "text/plain": [
       "2"
      ]
     },
     "execution_count": 7,
     "metadata": {},
     "output_type": "execute_result"
    }
   ],
   "source": [
    "a\n"
   ]
  },
  {
   "cell_type": "code",
   "execution_count": 8,
   "id": "18ce1d80-53d7-4233-b7b7-8c67c43af350",
   "metadata": {},
   "outputs": [
    {
     "name": "stdout",
     "output_type": "stream",
     "text": [
      "adik saya ada 2\n"
     ]
    }
   ],
   "source": [
    "print(\"adik saya ada\", a)"
   ]
  },
  {
   "cell_type": "code",
   "execution_count": 9,
   "id": "b20c3682-ac44-4b97-bafe-fde09fa4e66b",
   "metadata": {},
   "outputs": [
    {
     "name": "stdout",
     "output_type": "stream",
     "text": [
      "let's go to the library\n"
     ]
    }
   ],
   "source": [
    "raining = True\n",
    "print(\"let's go to the\", 'beach' if not raining else 'library')"
   ]
  },
  {
   "cell_type": "code",
   "execution_count": 10,
   "id": "2d17609d-7e2e-4c74-8708-6570bcb7da9e",
   "metadata": {},
   "outputs": [
    {
     "data": {
      "text/plain": [
       "3"
      ]
     },
     "execution_count": 10,
     "metadata": {},
     "output_type": "execute_result"
    }
   ],
   "source": [
    "m = a if a > b else b\n",
    "m"
   ]
  },
  {
   "cell_type": "code",
   "execution_count": 11,
   "id": "f92b5680-7064-4f71-8c73-28eb02b9da32",
   "metadata": {},
   "outputs": [
    {
     "name": "stdout",
     "output_type": "stream",
     "text": [
      "foo\n"
     ]
    }
   ],
   "source": [
    "if True:\n",
    "    pass\n",
    "elif True:\n",
    "    print('y')\n",
    "\n",
    "print('foo')"
   ]
  },
  {
   "cell_type": "code",
   "execution_count": 14,
   "id": "8c00a090-ebe6-402d-91dd-dff10c09e5e5",
   "metadata": {},
   "outputs": [],
   "source": [
    "n = n -1\n",
    "n += 1"
   ]
  },
  {
   "cell_type": "code",
   "execution_count": 15,
   "id": "b369ed36-0351-4625-8a5a-4c4db39a322d",
   "metadata": {},
   "outputs": [
    {
     "name": "stdout",
     "output_type": "stream",
     "text": [
      "4\n",
      "3\n",
      "1\n",
      "0\n",
      "ada yang salah\n",
      "ini print di luar loop\n"
     ]
    }
   ],
   "source": [
    "n = 5\n",
    "while n > 0:\n",
    "    n -= 1\n",
    "    \n",
    "    if n == 2:\n",
    "        continue\n",
    "\n",
    "    print(n)\n",
    "else:\n",
    "    print('ada yang salah')\n",
    "\n",
    "print('ini print di luar loop')"
   ]
  },
  {
   "cell_type": "code",
   "execution_count": 16,
   "id": "ce0fdb27-01a3-49d8-85db-b53bb813209a",
   "metadata": {},
   "outputs": [
    {
     "data": {
      "text/plain": [
       "dict_items([('foo', 1), ('bar', 2), ('buzz', 3)])"
      ]
     },
     "execution_count": 16,
     "metadata": {},
     "output_type": "execute_result"
    }
   ],
   "source": [
    "a = {'foo':1, 'bar':2, 'buzz':3}\n",
    "# for i in a.values():\n",
    "#     print(i)\n",
    "\n",
    "a.items()"
   ]
  },
  {
   "cell_type": "code",
   "execution_count": 17,
   "id": "e0419427-7968-4518-b34a-3faf693d9321",
   "metadata": {},
   "outputs": [
    {
     "name": "stdout",
     "output_type": "stream",
     "text": [
      "<class 'range'>\n"
     ]
    }
   ],
   "source": [
    "print(type(range(5)))"
   ]
  },
  {
   "cell_type": "code",
   "execution_count": 19,
   "id": "a35771e3-6e4d-49d8-9993-14bc03d06588",
   "metadata": {},
   "outputs": [
    {
     "name": "stdout",
     "output_type": "stream",
     "text": [
      "20\n",
      "19\n",
      "18\n",
      "17\n",
      "16\n"
     ]
    }
   ],
   "source": [
    "#          start,stop,step\n",
    "for i in range(20,1,-1):\n",
    "    if i == 15: \n",
    "        break\n",
    "    print(i)\n",
    "else:\n",
    "    print('mantap')"
   ]
  },
  {
   "cell_type": "code",
   "execution_count": 18,
   "id": "5f840da8-0918-44d7-ba33-56073098471b",
   "metadata": {},
   "outputs": [
    {
     "name": "stdout",
     "output_type": "stream",
     "text": [
      "4\n",
      "3\n"
     ]
    }
   ],
   "source": [
    "a = 5\n",
    "while a > 0:\n",
    "    a -= 1\n",
    "    if a == 2:\n",
    "        break\n",
    "    print(a)\n",
    "else:\n",
    "    print('selesai')"
   ]
  },
  {
   "cell_type": "code",
   "execution_count": 20,
   "id": "7009d86c-7697-4a48-b4ad-378a42efcab7",
   "metadata": {},
   "outputs": [
    {
     "name": "stdin",
     "output_type": "stream",
     "text": [
      "berapa umur kamu? 18\n"
     ]
    },
    {
     "name": "stdout",
     "output_type": "stream",
     "text": [
      "20\n",
      "tipe data umur adalah <class 'str'>\n",
      "tipe data umur_int adalah <class 'int'>\n"
     ]
    }
   ],
   "source": [
    "umur = input('berapa umur kamu?')\n",
    "umur_int = int(umur)\n",
    "print(umur_int + 2)\n",
    "\n",
    "print('tipe data umur adalah', type(umur))\n",
    "print('tipe data umur_int adalah', type(umur_int))"
   ]
  },
  {
   "cell_type": "code",
   "execution_count": 21,
   "id": "73a2788d-b918-4c68-8376-21e9dcf64bb7",
   "metadata": {},
   "outputs": [
    {
     "name": "stdin",
     "output_type": "stream",
     "text": [
      "Ketikan temperatur yang ingin dikonversi, eg. 45F, 120C:  45F\n"
     ]
    },
    {
     "name": "stdout",
     "output_type": "stream",
     "text": [
      "Temperaturnya adalah 7 derajat\n"
     ]
    }
   ],
   "source": [
    "temp = input(\"Ketikan temperatur yang ingin dikonversi, eg. 45F, 120C: \") \n",
    "degree = int(temp[:-1])\n",
    "i_convertion = temp[-1]\n",
    "\n",
    "if i_convertion == \"C\":\n",
    "    result = int(round ((9* degree) / 5 + 32))\n",
    "elif i_convertion == \"F\": \n",
    "    result = int(round ((degree - 32) * 5 / 9))\n",
    "else: \n",
    "    print(\"Masukan input yang benar\")\n",
    "    \n",
    "print(\"Temperaturnya adalah\", result, \"derajat\")"
   ]
  },
  {
   "cell_type": "code",
   "execution_count": null,
   "id": "14425dea-2e03-447f-bd23-68b4ebf3fbf6",
   "metadata": {},
   "outputs": [
    {
     "name": "stdin",
     "output_type": "stream",
     "text": [
      "masukkan password kamu: miawaug\n"
     ]
    },
    {
     "name": "stdout",
     "output_type": "stream",
     "text": [
      "password yang kamu masukkan salah\n"
     ]
    },
    {
     "name": "stdin",
     "output_type": "stream",
     "text": [
      "masukkan password kamu: hacktive8\n"
     ]
    },
    {
     "name": "stdout",
     "output_type": "stream",
     "text": [
      "password yang kamu masukkan salah\n"
     ]
    },
    {
     "name": "stdin",
     "output_type": "stream",
     "text": [
      "masukkan password kamu: 'hactive8'\n"
     ]
    },
    {
     "name": "stdout",
     "output_type": "stream",
     "text": [
      "password yang kamu masukkan salah\n"
     ]
    }
   ],
   "source": [
    "while True:\n",
    "    password = input('masukkan password kamu:')\n",
    "    \n",
    "    if password == 'hactive8':\n",
    "        break\n",
    "    else:\n",
    "        print('password yang kamu masukkan salah')"
   ]
  },
  {
   "cell_type": "code",
   "execution_count": null,
   "id": "ad6ed33a-8b9f-41fb-9748-a622c009b964",
   "metadata": {},
   "outputs": [],
   "source": []
  }
 ],
 "metadata": {
  "kernelspec": {
   "display_name": "Python 3 (ipykernel)",
   "language": "python",
   "name": "python3"
  },
  "language_info": {
   "codemirror_mode": {
    "name": "ipython",
    "version": 3
   },
   "file_extension": ".py",
   "mimetype": "text/x-python",
   "name": "python",
   "nbconvert_exporter": "python",
   "pygments_lexer": "ipython3",
   "version": "3.11.3"
  }
 },
 "nbformat": 4,
 "nbformat_minor": 5
}
