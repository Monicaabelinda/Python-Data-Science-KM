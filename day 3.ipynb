{
 "cells": [
  {
   "cell_type": "code",
   "execution_count": 1,
   "id": "5737895d-d1a4-4f9c-9ac1-d1dfe9105a82",
   "metadata": {},
   "outputs": [],
   "source": [
    "def halo(b,v):\n",
    "    '''function ini akan menyapa kamu\n",
    "    ntah itu siapa, tinggal memesukkan\n",
    "    nama lalu kondisi\n",
    "    '''\n",
    "    a = f'halo {b} yang {v}'\n",
    "    return a"
   ]
  },
  {
   "cell_type": "code",
   "execution_count": 2,
   "id": "9192f7ff-4caa-42ec-aed7-43f7abef61f7",
   "metadata": {},
   "outputs": [
    {
     "data": {
      "text/plain": [
       "'halo sedang berbahagia yang putra'"
      ]
     },
     "execution_count": 2,
     "metadata": {},
     "output_type": "execute_result"
    }
   ],
   "source": [
    "halo('sedang berbahagia','putra')"
   ]
  },
  {
   "cell_type": "code",
   "execution_count": 3,
   "id": "e19d7ca2-5913-4385-8815-9a93c333b714",
   "metadata": {},
   "outputs": [
    {
     "name": "stdout",
     "output_type": "stream",
     "text": [
      "halo\n",
      "33\n"
     ]
    }
   ],
   "source": [
    "def printme(str, angka = 9):\n",
    "    print(str)\n",
    "    print(angka * 3)\n",
    "    return\n",
    "\n",
    "printme(angka = 11, str ='halo')"
   ]
  },
  {
   "cell_type": "code",
   "execution_count": 4,
   "id": "a29526ab-237c-4cef-b2dd-763fbe5a93a5",
   "metadata": {},
   "outputs": [
    {
     "name": "stdout",
     "output_type": "stream",
     "text": [
      "penjumlahan dari 2 dan 2 adalah 4\n",
      "None\n"
     ]
    }
   ],
   "source": [
    "def jumlah(n1, n2):\n",
    "    print(f\"penjumlahan dari {n1} dan {n2} adalah {n1 + n2}\")\n",
    "    # return n1 + n2\n",
    "\n",
    "print(jumlah(2,2))\n",
    "\n",
    "a = lambda n1, n2: n1 + n2  \n",
    "# print(a)"
   ]
  },
  {
   "cell_type": "code",
   "execution_count": 5,
   "id": "69cb2226-063d-4969-a6e7-c50ec88d852a",
   "metadata": {},
   "outputs": [
    {
     "name": "stdout",
     "output_type": "stream",
     "text": [
      "variabel total di dalam function: 30\n",
      "variabel total di luar function: 0\n"
     ]
    }
   ],
   "source": [
    "total = 0\n",
    "\n",
    "def jumlah(arg1, arg2):\n",
    "    \n",
    "    total = arg1 + arg2\n",
    "    print(\"variabel total di dalam function:\", total)\n",
    "    return total\n",
    "\n",
    "jumlah(10,20)\n",
    "print(\"variabel total di luar function:\", total)"
   ]
  },
  {
   "cell_type": "code",
   "execution_count": 6,
   "id": "2abbff70-8151-46c5-9444-1b9760873ed3",
   "metadata": {},
   "outputs": [
    {
     "name": "stdout",
     "output_type": "stream",
     "text": [
      "80\n",
      "50\n"
     ]
    }
   ],
   "source": [
    "jumlahKucing = 50\n",
    "\n",
    "def jumlahHewan():\n",
    "    jumlahAnjing = 30\n",
    "    # jumlahKucing = 10\n",
    "    return jumlahAnjing + jumlahKucing\n",
    "\n",
    "print(jumlahHewan())\n",
    "print(jumlahKucing)"
   ]
  },
  {
   "cell_type": "code",
   "execution_count": 30,
   "id": "eb6bc3cb-6a09-4e0f-977b-21aacb28f9e2",
   "metadata": {},
   "outputs": [
    {
     "name": "stdout",
     "output_type": "stream",
     "text": [
      "Hactive8 Python\n",
      "arg = ini argumennya\n"
     ]
    },
    {
     "data": {
      "text/plain": [
       "<mod.Foo at 0x1b23ba46bd0>"
      ]
     },
     "execution_count": 30,
     "metadata": {},
     "output_type": "execute_result"
    }
   ],
   "source": [
    "import mod as m\n",
    "\n",
    "print(mod.s)\n",
    "mod.a\n",
    "mod.foo('ini argumennya')\n",
    "x = mod.Foo()\n",
    "x"
   ]
  },
  {
   "cell_type": "code",
   "execution_count": 6,
   "id": "cb910e2e-b550-40b8-bf8d-1d762d30b277",
   "metadata": {},
   "outputs": [],
   "source": [
    "s = 10"
   ]
  },
  {
   "cell_type": "code",
   "execution_count": 7,
   "id": "82743aed-2ae8-41e2-8d5d-9d021a63474f",
   "metadata": {},
   "outputs": [
    {
     "name": "stdout",
     "output_type": "stream",
     "text": [
      "10\n",
      "Hactive8 Python\n"
     ]
    }
   ],
   "source": [
    "from mod import s as stri\n",
    "print(s)\n",
    "print(stri)"
   ]
  },
  {
   "cell_type": "code",
   "execution_count": 8,
   "id": "cac766b2-8e02-465e-b40f-5b8cbee87a8f",
   "metadata": {},
   "outputs": [],
   "source": [
    "import pandas as pd\n",
    "import numpy as np\n",
    "import matplotlib.pyplot as plt"
   ]
  },
  {
   "cell_type": "code",
   "execution_count": 19,
   "id": "edbb380f-49d5-4db0-aca5-c11b731522c9",
   "metadata": {},
   "outputs": [
    {
     "name": "stdout",
     "output_type": "stream",
     "text": [
      "[100, 200, 300]\n"
     ]
    }
   ],
   "source": [
    "def coba():\n",
    "    from mod import a\n",
    "    print(a)\n",
    "\n",
    "coba()"
   ]
  },
  {
   "cell_type": "code",
   "execution_count": 20,
   "id": "8aaf8dc8-7e96-47cc-ab26-6d49b3d89cde",
   "metadata": {},
   "outputs": [
    {
     "name": "stdout",
     "output_type": "stream",
     "text": [
      "module not found\n"
     ]
    }
   ],
   "source": [
    "try:\n",
    "    from mod import b\n",
    "except ImportError:\n",
    "    print('module not found')"
   ]
  },
  {
   "cell_type": "code",
   "execution_count": 21,
   "id": "25ea9f10-00ea-49b5-8aa8-0e39db200543",
   "metadata": {},
   "outputs": [
    {
     "data": {
      "text/plain": [
       "'Hactive8 Python'"
      ]
     },
     "execution_count": 21,
     "metadata": {},
     "output_type": "execute_result"
    }
   ],
   "source": [
    "mod.s"
   ]
  },
  {
   "cell_type": "code",
   "execution_count": 35,
   "id": "04ec77f0-3934-4e69-99fc-1b425a236ad7",
   "metadata": {},
   "outputs": [
    {
     "ename": "ImportError",
     "evalue": "cannot import name 'b' from 'mod' (C:\\Users\\ASUS\\Downloads\\MBKM\\Project data science\\mod.py)",
     "output_type": "error",
     "traceback": [
      "\u001b[1;31m---------------------------------------------------------------------------\u001b[0m",
      "\u001b[1;31mImportError\u001b[0m                               Traceback (most recent call last)",
      "Cell \u001b[1;32mIn[35], line 1\u001b[0m\n\u001b[1;32m----> 1\u001b[0m \u001b[38;5;28;01mfrom\u001b[39;00m \u001b[38;5;21;01mmod\u001b[39;00m \u001b[38;5;28;01mimport\u001b[39;00m b\n",
      "\u001b[1;31mImportError\u001b[0m: cannot import name 'b' from 'mod' (C:\\Users\\ASUS\\Downloads\\MBKM\\Project data science\\mod.py)"
     ]
    }
   ],
   "source": [
    "from mod import b"
   ]
  },
  {
   "cell_type": "code",
   "execution_count": 23,
   "id": "045ece05-c7be-4b35-97bf-d454fc09a3bc",
   "metadata": {},
   "outputs": [
    {
     "data": {
      "text/plain": [
       "['In',\n",
       " 'Out',\n",
       " '_',\n",
       " '_13',\n",
       " '_15',\n",
       " '_21',\n",
       " '__',\n",
       " '___',\n",
       " '__builtin__',\n",
       " '__builtins__',\n",
       " '__doc__',\n",
       " '__loader__',\n",
       " '__name__',\n",
       " '__package__',\n",
       " '__spec__',\n",
       " '_dh',\n",
       " '_exit_code',\n",
       " '_i',\n",
       " '_i1',\n",
       " '_i10',\n",
       " '_i11',\n",
       " '_i12',\n",
       " '_i13',\n",
       " '_i14',\n",
       " '_i15',\n",
       " '_i16',\n",
       " '_i17',\n",
       " '_i18',\n",
       " '_i19',\n",
       " '_i2',\n",
       " '_i20',\n",
       " '_i21',\n",
       " '_i22',\n",
       " '_i23',\n",
       " '_i3',\n",
       " '_i4',\n",
       " '_i5',\n",
       " '_i6',\n",
       " '_i7',\n",
       " '_i8',\n",
       " '_i9',\n",
       " '_ih',\n",
       " '_ii',\n",
       " '_iii',\n",
       " '_oh',\n",
       " 'coba',\n",
       " 'exit',\n",
       " 'get_ipython',\n",
       " 'hack',\n",
       " 'm',\n",
       " 'mod',\n",
       " 'np',\n",
       " 'numpy',\n",
       " 'open',\n",
       " 'pandas',\n",
       " 'pd',\n",
       " 'plt',\n",
       " 'quit',\n",
       " 's',\n",
       " 'seaborn',\n",
       " 'stri']"
      ]
     },
     "execution_count": 23,
     "metadata": {},
     "output_type": "execute_result"
    }
   ],
   "source": [
    "hack = 8\n",
    "dir()"
   ]
  },
  {
   "cell_type": "code",
   "execution_count": 24,
   "id": "adab6d09-cd46-48f3-8d08-6f70d18bfba1",
   "metadata": {},
   "outputs": [],
   "source": [
    "import pandas \n",
    "import numpy\n",
    "import seaborn"
   ]
  },
  {
   "cell_type": "code",
   "execution_count": 25,
   "id": "8901c069-8449-4988-bcd8-5409809dcc37",
   "metadata": {},
   "outputs": [
    {
     "data": {
      "text/plain": [
       "['In',\n",
       " 'Out',\n",
       " '_',\n",
       " '_13',\n",
       " '_15',\n",
       " '_21',\n",
       " '_23',\n",
       " '__',\n",
       " '___',\n",
       " '__builtin__',\n",
       " '__builtins__',\n",
       " '__doc__',\n",
       " '__loader__',\n",
       " '__name__',\n",
       " '__package__',\n",
       " '__spec__',\n",
       " '_dh',\n",
       " '_exit_code',\n",
       " '_i',\n",
       " '_i1',\n",
       " '_i10',\n",
       " '_i11',\n",
       " '_i12',\n",
       " '_i13',\n",
       " '_i14',\n",
       " '_i15',\n",
       " '_i16',\n",
       " '_i17',\n",
       " '_i18',\n",
       " '_i19',\n",
       " '_i2',\n",
       " '_i20',\n",
       " '_i21',\n",
       " '_i22',\n",
       " '_i23',\n",
       " '_i24',\n",
       " '_i25',\n",
       " '_i3',\n",
       " '_i4',\n",
       " '_i5',\n",
       " '_i6',\n",
       " '_i7',\n",
       " '_i8',\n",
       " '_i9',\n",
       " '_ih',\n",
       " '_ii',\n",
       " '_iii',\n",
       " '_oh',\n",
       " 'coba',\n",
       " 'exit',\n",
       " 'get_ipython',\n",
       " 'hack',\n",
       " 'm',\n",
       " 'mod',\n",
       " 'np',\n",
       " 'numpy',\n",
       " 'open',\n",
       " 'pandas',\n",
       " 'pd',\n",
       " 'plt',\n",
       " 'quit',\n",
       " 's',\n",
       " 'seaborn',\n",
       " 'stri']"
      ]
     },
     "execution_count": 25,
     "metadata": {},
     "output_type": "execute_result"
    }
   ],
   "source": [
    "dir()"
   ]
  },
  {
   "cell_type": "code",
   "execution_count": 26,
   "id": "3e0be2eb-59f8-44f7-987b-1389af6d057c",
   "metadata": {},
   "outputs": [
    {
     "name": "stdout",
     "output_type": "stream",
     "text": [
      "Requirement already satisfied: setuptools in c:\\users\\asus\\anaconda3\\lib\\site-packages (67.8.0)\n",
      "Note: you may need to restart the kernel to use updated packages.\n"
     ]
    }
   ],
   "source": [
    "pip install setuptools"
   ]
  },
  {
   "cell_type": "code",
   "execution_count": 32,
   "id": "9da9a199-4c72-45ee-bd3f-5a60e008c43b",
   "metadata": {},
   "outputs": [],
   "source": [
    "import mod"
   ]
  },
  {
   "cell_type": "code",
   "execution_count": 55,
   "id": "3a8b508f-a6ee-4209-9ac5-8327db3c4005",
   "metadata": {},
   "outputs": [
    {
     "data": {
      "text/plain": [
       "['C:\\\\Users\\\\ASUS\\\\Downloads\\\\MBKM\\\\Project data science',\n",
       " 'C:\\\\Users\\\\ASUS\\\\anaconda3\\\\python311.zip',\n",
       " 'C:\\\\Users\\\\ASUS\\\\anaconda3\\\\DLLs',\n",
       " 'C:\\\\Users\\\\ASUS\\\\anaconda3\\\\Lib',\n",
       " 'C:\\\\Users\\\\ASUS\\\\anaconda3',\n",
       " '',\n",
       " 'C:\\\\Users\\\\ASUS\\\\anaconda3\\\\Lib\\\\site-packages',\n",
       " 'C:\\\\Users\\\\ASUS\\\\anaconda3\\\\Lib\\\\site-packages\\\\win32',\n",
       " 'C:\\\\Users\\\\ASUS\\\\anaconda3\\\\Lib\\\\site-packages\\\\win32\\\\lib',\n",
       " 'C:\\\\Users\\\\ASUS\\\\anaconda3\\\\Lib\\\\site-packages\\\\Pythonwin']"
      ]
     },
     "execution_count": 55,
     "metadata": {},
     "output_type": "execute_result"
    }
   ],
   "source": [
    "import sys\n",
    "sys.path"
   ]
  },
  {
   "cell_type": "code",
   "execution_count": 59,
   "id": "b71eddfb-4958-4c52-b78b-d51f8b203261",
   "metadata": {},
   "outputs": [
    {
     "data": {
      "text/plain": [
       "<function list.append(object, /)>"
      ]
     },
     "execution_count": 59,
     "metadata": {},
     "output_type": "execute_result"
    }
   ],
   "source": [
    "sys.path.append"
   ]
  },
  {
   "cell_type": "code",
   "execution_count": 56,
   "id": "a48bd1c9-2d53-4fd0-89f6-52e2ddf8e7d8",
   "metadata": {},
   "outputs": [],
   "source": [
    "import pkg "
   ]
  },
  {
   "cell_type": "code",
   "execution_count": 57,
   "id": "3fe5fb3a-062b-46be-a542-89effad6429f",
   "metadata": {},
   "outputs": [
    {
     "data": {
      "text/plain": [
       "<module 'pkg' from 'C:\\\\Users\\\\ASUS\\\\anaconda3\\\\Lib\\\\site-packages\\\\pkg\\\\__init__.py'>"
      ]
     },
     "execution_count": 57,
     "metadata": {},
     "output_type": "execute_result"
    }
   ],
   "source": [
    "pkg"
   ]
  },
  {
   "cell_type": "code",
   "execution_count": 58,
   "id": "baebc78c-17b3-438f-9fca-afe1e26c2cef",
   "metadata": {},
   "outputs": [
    {
     "ename": "ModuleNotFoundError",
     "evalue": "No module named 'pkg.mod1'",
     "output_type": "error",
     "traceback": [
      "\u001b[1;31m---------------------------------------------------------------------------\u001b[0m",
      "\u001b[1;31mModuleNotFoundError\u001b[0m                       Traceback (most recent call last)",
      "Cell \u001b[1;32mIn[58], line 1\u001b[0m\n\u001b[1;32m----> 1\u001b[0m \u001b[38;5;28;01mfrom\u001b[39;00m \u001b[38;5;21;01mpkg\u001b[39;00m\u001b[38;5;21;01m.\u001b[39;00m\u001b[38;5;21;01mmod1\u001b[39;00m \u001b[38;5;28;01mimport\u001b[39;00m foo\n",
      "\u001b[1;31mModuleNotFoundError\u001b[0m: No module named 'pkg.mod1'"
     ]
    }
   ],
   "source": [
    "from pkg.mod1 import foo"
   ]
  },
  {
   "cell_type": "code",
   "execution_count": null,
   "id": "2ef4d1cf-ae16-4435-a24e-2c55a1e929b4",
   "metadata": {},
   "outputs": [],
   "source": []
  }
 ],
 "metadata": {
  "kernelspec": {
   "display_name": "Python 3 (ipykernel)",
   "language": "python",
   "name": "python3"
  },
  "language_info": {
   "codemirror_mode": {
    "name": "ipython",
    "version": 3
   },
   "file_extension": ".py",
   "mimetype": "text/x-python",
   "name": "python",
   "nbconvert_exporter": "python",
   "pygments_lexer": "ipython3",
   "version": "3.11.3"
  }
 },
 "nbformat": 4,
 "nbformat_minor": 5
}
